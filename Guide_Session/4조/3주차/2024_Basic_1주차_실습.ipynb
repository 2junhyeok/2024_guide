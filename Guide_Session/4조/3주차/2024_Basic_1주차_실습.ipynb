{
 "cells": [
  {
   "cell_type": "markdown",
   "id": "fa3ea01e",
   "metadata": {},
   "source": [
    "# Topics\n",
    "* [변수 설정](#변수설정)\n",
    "\n",
    "* [자료형](#자료형)\n",
    "    + [정수형 & 실수형](#정수형&실수형)\n",
    "    + [불린](#불린)\n",
    "    + [문자열](#문자열)\n",
    "    + [날짜형](#날짜형)\n",
    "    + [리스트 & 튜플](#리스트&튜플)\n",
    "    + [딕셔너리 & 집합](#딕셔너리&집합)\n",
    "       \n",
    "* [연산자](#연산자)\n",
    "    + [산술 연산자](#산술연산자)\n",
    "    + [대입 연산자](#대입연산자)\n",
    "    + [비교 연산자](#비교연산자)\n",
    "    + [멤버 & 논리 연산자](#멤버&논리연산자)\n",
    "    \n",
    "* [문자열 포맷팅](#문자열포맷팅)\n",
    "    + [포맷코드](#포맷코드)\n",
    "    + [format 함수](#format함수)\n",
    "    + [f-string](#f-string)\n",
    "    \n",
    "* [메소드](#메소드)\n",
    "    + [문자열 메소드](#문자열메소드)\n",
    "    + [리스트 메소드](#리스트메소드)\n",
    "    + [딕셔너리 메소드](#딕셔너리메소드)"
   ]
  },
  {
   "cell_type": "markdown",
   "id": "ed88fec9",
   "metadata": {},
   "source": [
    "# 변수설정\n",
    "#### 변수\n",
    "- 데이터를 재사용하기 위해 저장하는 공간\n",
    "\n",
    "#### 식별자\n",
    "- 변수, 함수 등을 구분하기 위해 붙이는 이름\n",
    "\n",
    "##### 식별자 규칙\n",
    "1. 첫 글자는 문자와 _ 만 사용 가능\n",
    "2. 예약어 사용 불가\n",
    "3. _ 를 제외한 특수문자 사용 불가\n",
    "4. 공백 사용 불가\n",
    "5. 영문자의 경우 대소문자 구분"
   ]
  },
  {
   "cell_type": "code",
   "execution_count": 7,
   "id": "dd99420c",
   "metadata": {},
   "outputs": [],
   "source": [
    "x = 10"
   ]
  },
  {
   "cell_type": "code",
   "execution_count": 8,
   "id": "9a36556f",
   "metadata": {},
   "outputs": [
    {
     "ename": "SyntaxError",
     "evalue": "invalid decimal literal (2597004833.py, line 2)",
     "output_type": "error",
     "traceback": [
      "\u001b[1;36m  Cell \u001b[1;32mIn[8], line 2\u001b[1;36m\u001b[0m\n\u001b[1;33m    23d = 9\u001b[0m\n\u001b[1;37m     ^\u001b[0m\n\u001b[1;31mSyntaxError\u001b[0m\u001b[1;31m:\u001b[0m invalid decimal literal\n"
     ]
    }
   ],
   "source": [
    "# 숫자로 변수명 시작 불가능\n",
    "23d = 9"
   ]
  },
  {
   "cell_type": "code",
   "execution_count": 9,
   "id": "274daadf",
   "metadata": {},
   "outputs": [
    {
     "ename": "SyntaxError",
     "evalue": "invalid syntax (1248148887.py, line 2)",
     "output_type": "error",
     "traceback": [
      "\u001b[1;36m  Cell \u001b[1;32mIn[9], line 2\u001b[1;36m\u001b[0m\n\u001b[1;33m    if = 7\u001b[0m\n\u001b[1;37m       ^\u001b[0m\n\u001b[1;31mSyntaxError\u001b[0m\u001b[1;31m:\u001b[0m invalid syntax\n"
     ]
    }
   ],
   "source": [
    "# 파이썬 내장 함수의 이름 사용 불가능\n",
    "if = 7"
   ]
  },
  {
   "cell_type": "code",
   "execution_count": 10,
   "id": "c1d33224",
   "metadata": {},
   "outputs": [],
   "source": [
    "# 문자열도 저장 가능\n",
    "y = 'Hello, World!'"
   ]
  },
  {
   "cell_type": "code",
   "execution_count": 11,
   "id": "f41f30d0",
   "metadata": {},
   "outputs": [
    {
     "name": "stdout",
     "output_type": "stream",
     "text": [
      "10 20 30\n"
     ]
    }
   ],
   "source": [
    "# 여러 개의 변수 한 번에 생성 가능\n",
    "a,b,c = 10,20,30\n",
    "print(a,b,c)"
   ]
  },
  {
   "cell_type": "code",
   "execution_count": 12,
   "id": "dd02cc68",
   "metadata": {},
   "outputs": [],
   "source": [
    "del a,b,c"
   ]
  },
  {
   "cell_type": "code",
   "execution_count": 13,
   "id": "531a4730",
   "metadata": {},
   "outputs": [
    {
     "ename": "NameError",
     "evalue": "name 'a' is not defined",
     "output_type": "error",
     "traceback": [
      "\u001b[1;31m---------------------------------------------------------------------------\u001b[0m",
      "\u001b[1;31mNameError\u001b[0m                                 Traceback (most recent call last)",
      "Cell \u001b[1;32mIn[13], line 2\u001b[0m\n\u001b[0;32m      1\u001b[0m \u001b[38;5;66;03m# 변수는 삭제됨\u001b[39;00m\n\u001b[1;32m----> 2\u001b[0m a\n",
      "\u001b[1;31mNameError\u001b[0m: name 'a' is not defined"
     ]
    }
   ],
   "source": [
    "# 변수는 삭제됨\n",
    "a"
   ]
  },
  {
   "cell_type": "markdown",
   "id": "78a55ba3",
   "metadata": {},
   "source": [
    "# 자료형\n",
    "- 데이터를 표현하는 방법\n",
    "- type() 함수를 통해 해당 값의 자료형 확인 가능"
   ]
  },
  {
   "cell_type": "code",
   "execution_count": null,
   "id": "cd0e57b0",
   "metadata": {},
   "outputs": [],
   "source": [
    "# int는 정수형\n",
    "type(4)"
   ]
  },
  {
   "cell_type": "code",
   "execution_count": null,
   "id": "50f5e98a",
   "metadata": {},
   "outputs": [],
   "source": [
    "# float는 실수형\n",
    "type(4.0)"
   ]
  },
  {
   "cell_type": "code",
   "execution_count": null,
   "id": "79cc2de8",
   "metadata": {},
   "outputs": [],
   "source": [
    "# str은 문자열\n",
    "type('4.0')"
   ]
  },
  {
   "cell_type": "markdown",
   "id": "5430187f",
   "metadata": {},
   "source": [
    "##  정수형&실수형\n",
    "\n",
    "#### 정수형\n",
    "- 수학에서 정수로 정의되는 모든 수들의 집합 (ex. 1, -1, 0)\n",
    "\n",
    "#### 실수형\n",
    "- 수학에서 정수를 제외한 실수로 정의되는 수들의 집합 (ex. 1.4, -3.6)"
   ]
  },
  {
   "cell_type": "code",
   "execution_count": null,
   "id": "06515d87",
   "metadata": {
    "scrolled": true
   },
   "outputs": [],
   "source": [
    "int(10)"
   ]
  },
  {
   "cell_type": "code",
   "execution_count": null,
   "id": "d4f39826",
   "metadata": {},
   "outputs": [],
   "source": [
    "int(True)"
   ]
  },
  {
   "cell_type": "code",
   "execution_count": 14,
   "id": "74d7eeea",
   "metadata": {},
   "outputs": [
    {
     "data": {
      "text/plain": [
       "10"
      ]
     },
     "execution_count": 14,
     "metadata": {},
     "output_type": "execute_result"
    }
   ],
   "source": [
    "int(10.0)"
   ]
  },
  {
   "cell_type": "code",
   "execution_count": 15,
   "id": "783a54a9",
   "metadata": {},
   "outputs": [
    {
     "data": {
      "text/plain": [
       "10"
      ]
     },
     "execution_count": 15,
     "metadata": {},
     "output_type": "execute_result"
    }
   ],
   "source": [
    "int('10')"
   ]
  },
  {
   "cell_type": "code",
   "execution_count": 16,
   "id": "047fe69c",
   "metadata": {},
   "outputs": [
    {
     "data": {
      "text/plain": [
       "10.0"
      ]
     },
     "execution_count": 16,
     "metadata": {},
     "output_type": "execute_result"
    }
   ],
   "source": [
    "float(10)"
   ]
  },
  {
   "cell_type": "code",
   "execution_count": 17,
   "id": "2405ca08",
   "metadata": {},
   "outputs": [
    {
     "data": {
      "text/plain": [
       "0.0"
      ]
     },
     "execution_count": 17,
     "metadata": {},
     "output_type": "execute_result"
    }
   ],
   "source": [
    "float(False)"
   ]
  },
  {
   "cell_type": "markdown",
   "id": "01c50fb6",
   "metadata": {},
   "source": [
    "## 불린\n",
    "\n",
    "- 참(True)과 거짓(False)를 표현"
   ]
  },
  {
   "cell_type": "code",
   "execution_count": 18,
   "id": "46e66e12",
   "metadata": {},
   "outputs": [
    {
     "data": {
      "text/plain": [
       "False"
      ]
     },
     "execution_count": 18,
     "metadata": {},
     "output_type": "execute_result"
    }
   ],
   "source": [
    "bool(0)"
   ]
  },
  {
   "cell_type": "code",
   "execution_count": 19,
   "id": "e768830f",
   "metadata": {},
   "outputs": [
    {
     "data": {
      "text/plain": [
       "True"
      ]
     },
     "execution_count": 19,
     "metadata": {},
     "output_type": "execute_result"
    }
   ],
   "source": [
    "bool(5)"
   ]
  },
  {
   "cell_type": "code",
   "execution_count": 20,
   "id": "6db27624",
   "metadata": {},
   "outputs": [
    {
     "data": {
      "text/plain": [
       "True"
      ]
     },
     "execution_count": 20,
     "metadata": {},
     "output_type": "execute_result"
    }
   ],
   "source": [
    "bool([1, 2, 3])"
   ]
  },
  {
   "cell_type": "code",
   "execution_count": 21,
   "id": "b2e017c6",
   "metadata": {},
   "outputs": [
    {
     "data": {
      "text/plain": [
       "False"
      ]
     },
     "execution_count": 21,
     "metadata": {},
     "output_type": "execute_result"
    }
   ],
   "source": [
    "# 리스트가 비어있다면 정수형에서의 0과 동일하게 생각해 False를 출력\n",
    "bool([])"
   ]
  },
  {
   "cell_type": "markdown",
   "id": "7bf81933",
   "metadata": {},
   "source": [
    "## 문자열\n",
    "\n",
    "- 문자 또는 문자의 나열\n",
    "- 리스트와 마찬가지로 순서를 가지고 있기 때문에 인덱싱 및 슬라이싱 가능"
   ]
  },
  {
   "cell_type": "code",
   "execution_count": 22,
   "id": "89ecb067",
   "metadata": {},
   "outputs": [],
   "source": [
    "# ' ',\" \" 로 둘러싸여 저장됨\n",
    "a = 'D&'\n",
    "b = 'A'"
   ]
  },
  {
   "cell_type": "code",
   "execution_count": 23,
   "id": "a280b3a8",
   "metadata": {},
   "outputs": [
    {
     "name": "stdout",
     "output_type": "stream",
     "text": [
      "안녕하세요. 저는 21학번 김서령입니다.\n",
      "저의 전공은 AI빅데이터융합경영학과입니다.\n"
     ]
    }
   ],
   "source": [
    "# 여러 줄에 걸쳐서 문자열 정의 가능\n",
    "sentence = '''안녕하세요. 저는 21학번 김서령입니다.\n",
    "저의 전공은 AI빅데이터융합경영학과입니다.'''\n",
    "print(sentence)"
   ]
  },
  {
   "cell_type": "code",
   "execution_count": 24,
   "id": "711a7066",
   "metadata": {},
   "outputs": [
    {
     "name": "stdout",
     "output_type": "stream",
     "text": [
      "D&A AAA\n"
     ]
    }
   ],
   "source": [
    "# 더하거나 곱하는 연산 가능\n",
    "print(a + b, b*3)"
   ]
  },
  {
   "cell_type": "markdown",
   "id": "1b764766",
   "metadata": {},
   "source": [
    "#### 인덱싱 & 슬라이싱"
   ]
  },
  {
   "cell_type": "code",
   "execution_count": 25,
   "id": "cab482ea",
   "metadata": {},
   "outputs": [],
   "source": [
    "a = 'Hello, world!'"
   ]
  },
  {
   "cell_type": "code",
   "execution_count": 26,
   "id": "6121658f",
   "metadata": {},
   "outputs": [
    {
     "data": {
      "text/plain": [
       "13"
      ]
     },
     "execution_count": 26,
     "metadata": {},
     "output_type": "execute_result"
    }
   ],
   "source": [
    "# len 함수를 통해 문자열 길이 출력\n",
    "len(a)"
   ]
  },
  {
   "cell_type": "code",
   "execution_count": 27,
   "id": "5ad2b9eb",
   "metadata": {},
   "outputs": [
    {
     "data": {
      "text/plain": [
       "'o'"
      ]
     },
     "execution_count": 27,
     "metadata": {},
     "output_type": "execute_result"
    }
   ],
   "source": [
    "# 4번째 자리에 있는 문자 추출\n",
    "a[4]"
   ]
  },
  {
   "cell_type": "code",
   "execution_count": 28,
   "id": "21273092",
   "metadata": {},
   "outputs": [
    {
     "data": {
      "text/plain": [
       "'d'"
      ]
     },
     "execution_count": 28,
     "metadata": {},
     "output_type": "execute_result"
    }
   ],
   "source": [
    "# 뒤에서부터 2번째 자리에 있는 문자 추출\n",
    "a[-2]"
   ]
  },
  {
   "cell_type": "code",
   "execution_count": 29,
   "id": "43dee52f",
   "metadata": {},
   "outputs": [
    {
     "data": {
      "text/plain": [
       "'Hell'"
      ]
     },
     "execution_count": 29,
     "metadata": {},
     "output_type": "execute_result"
    }
   ],
   "source": [
    "a[0:4]"
   ]
  },
  {
   "cell_type": "code",
   "execution_count": 30,
   "id": "19cd9745",
   "metadata": {},
   "outputs": [
    {
     "data": {
      "text/plain": [
       "'Hello, '"
      ]
     },
     "execution_count": 30,
     "metadata": {},
     "output_type": "execute_result"
    }
   ],
   "source": [
    "a[:7]"
   ]
  },
  {
   "cell_type": "code",
   "execution_count": 31,
   "id": "6ee76f66",
   "metadata": {},
   "outputs": [
    {
     "data": {
      "text/plain": [
       "'Hello, world!'"
      ]
     },
     "execution_count": 31,
     "metadata": {},
     "output_type": "execute_result"
    }
   ],
   "source": [
    "a[:]"
   ]
  },
  {
   "cell_type": "code",
   "execution_count": 32,
   "id": "1c22803f",
   "metadata": {},
   "outputs": [
    {
     "data": {
      "text/plain": [
       "'!dlrow ,olleH'"
      ]
     },
     "execution_count": 32,
     "metadata": {},
     "output_type": "execute_result"
    }
   ],
   "source": [
    "a[::-1]"
   ]
  },
  {
   "cell_type": "markdown",
   "id": "133c7ce6",
   "metadata": {},
   "source": [
    "## 날짜형"
   ]
  },
  {
   "cell_type": "markdown",
   "id": "bac2f978",
   "metadata": {},
   "source": [
    "### datetime을 활용한 날짜형"
   ]
  },
  {
   "cell_type": "markdown",
   "id": "d5fa1c04",
   "metadata": {},
   "source": [
    "1) 날짜형 datetime.date 생성 및 날짜 간 차이"
   ]
  },
  {
   "cell_type": "code",
   "execution_count": 33,
   "id": "cfc8d454",
   "metadata": {},
   "outputs": [
    {
     "data": {
      "text/plain": [
       "datetime.timedelta(days=288)"
      ]
     },
     "execution_count": 33,
     "metadata": {},
     "output_type": "execute_result"
    }
   ],
   "source": [
    "import datetime\n",
    "\n",
    "christmas = datetime.date(2024, 12, 25)  \n",
    "today = datetime.date(2024, 3, 12)\n",
    "\n",
    "christmas - today      # 오늘부터 크리스마스까지 얼마나 남았나 확인중..."
   ]
  },
  {
   "cell_type": "code",
   "execution_count": 34,
   "id": "31796a79",
   "metadata": {},
   "outputs": [
    {
     "name": "stdout",
     "output_type": "stream",
     "text": [
      "2024\n",
      "12\n",
      "25\n",
      "2\n"
     ]
    }
   ],
   "source": [
    "print(christmas.year)\n",
    "print(christmas.month)\n",
    "print(christmas.day)\n",
    "print(christmas.weekday())  # weekday는 월요일부터 0"
   ]
  },
  {
   "cell_type": "markdown",
   "id": "72d7484d",
   "metadata": {},
   "source": [
    "2) datetime.datetime으로 시간까지 계산"
   ]
  },
  {
   "cell_type": "code",
   "execution_count": 35,
   "id": "4782d634",
   "metadata": {},
   "outputs": [
    {
     "data": {
      "text/plain": [
       "datetime.timedelta(seconds=70543, microseconds=977332)"
      ]
     },
     "execution_count": 35,
     "metadata": {},
     "output_type": "execute_result"
    }
   ],
   "source": [
    "now = datetime.datetime.now()  # now()로 현재\n",
    "report = datetime.datetime(2024, 3, 13, 9, 0, 0)  # 내일 1교시 전까지가 과제 제출!\n",
    "\n",
    "report - now    # 시간이 얼마나 남았지?"
   ]
  },
  {
   "cell_type": "code",
   "execution_count": 36,
   "id": "73015dbc",
   "metadata": {},
   "outputs": [
    {
     "name": "stdout",
     "output_type": "stream",
     "text": [
      "2024\n",
      "3\n",
      "13\n",
      "9\n",
      "0\n",
      "0\n",
      "2\n"
     ]
    }
   ],
   "source": [
    "print(report.year)\n",
    "print(report.month)\n",
    "print(report.day)\n",
    "print(report.hour)\n",
    "print(report.minute)\n",
    "print(report.second)\n",
    "print(report.weekday())  # weekday는 월요일부터 0"
   ]
  },
  {
   "cell_type": "markdown",
   "id": "0a3e45b9",
   "metadata": {},
   "source": [
    "3) timedelta 객체로 n일 후 날짜 알아보기"
   ]
  },
  {
   "cell_type": "code",
   "execution_count": 37,
   "id": "397ee3f3",
   "metadata": {},
   "outputs": [
    {
     "data": {
      "text/plain": [
       "datetime.date(2024, 7, 2)"
      ]
     },
     "execution_count": 37,
     "metadata": {},
     "output_type": "execute_result"
    }
   ],
   "source": [
    "diff = datetime.timedelta(days = 112)  # 96일이라는 timedelta(날짜 간 차이)객체 생성\n",
    "\n",
    "today + diff  # 오늘부터 112일 후는??"
   ]
  },
  {
   "cell_type": "markdown",
   "id": "073f755c",
   "metadata": {},
   "source": [
    "### Pandas를 사용한 날짜형"
   ]
  },
  {
   "cell_type": "code",
   "execution_count": 38,
   "id": "2dbe22c6",
   "metadata": {
    "scrolled": true
   },
   "outputs": [
    {
     "name": "stdout",
     "output_type": "stream",
     "text": [
      "2024-03-12 10:20:30\n",
      "2024-03-12 10:20:30\n",
      "2024-03-12 10:20:30\n"
     ]
    }
   ],
   "source": [
    "import pandas as pd\n",
    "\n",
    "a = pd.to_datetime('2024-03-12 10:20:30', format = '%Y-%m-%d %H:%M:%S')\n",
    "b = pd.to_datetime('03122024 10:20:30',format='%m%d%Y %H:%M:%S')\n",
    "c = pd.to_datetime(\"2024/03/12 10:20:30\", format = \"%Y/%m/%d %H:%M:%S\")\n",
    "\n",
    "print(a)\n",
    "print(b)\n",
    "print(c)"
   ]
  },
  {
   "cell_type": "markdown",
   "id": "df89ae8e",
   "metadata": {},
   "source": [
    "## 리스트&튜플"
   ]
  },
  {
   "cell_type": "markdown",
   "id": "5617983d",
   "metadata": {},
   "source": [
    "### 리스트\n",
    "- 아이템들을 모은 순차 데이터 타입\n",
    "- 아이템은 정수, 스트링, 다른 리스트 등 모든 종류의 데이터 가능"
   ]
  },
  {
   "cell_type": "code",
   "execution_count": 39,
   "id": "51bc004b",
   "metadata": {},
   "outputs": [
    {
     "name": "stdout",
     "output_type": "stream",
     "text": [
      "[1, 2, 'AI', 'Bigdata']\n",
      "[1, 2, 1, 2]\n"
     ]
    }
   ],
   "source": [
    "lst_1 = [1, 2]\n",
    "lst_2 = ['AI','Bigdata']\n",
    "print(lst_1 + lst_2)  # 리스트 2개를 결합\n",
    "print(lst_1 * 2)      # 리스트를 원하는 만큼 반복"
   ]
  },
  {
   "cell_type": "code",
   "execution_count": 40,
   "id": "5ff4d2ea",
   "metadata": {},
   "outputs": [
    {
     "data": {
      "text/plain": [
       "[1, 2, 3, 4]"
      ]
     },
     "execution_count": 40,
     "metadata": {},
     "output_type": "execute_result"
    }
   ],
   "source": [
    "# list자료형으로 바꾸기\n",
    "list({1, 2, 3, 4}) "
   ]
  },
  {
   "cell_type": "code",
   "execution_count": 41,
   "id": "04348ad4",
   "metadata": {},
   "outputs": [],
   "source": [
    "a = [123, 'D&A','Basic',['a','b','c']]"
   ]
  },
  {
   "cell_type": "code",
   "execution_count": 42,
   "id": "110ccee4",
   "metadata": {},
   "outputs": [
    {
     "data": {
      "text/plain": [
       "'Basic'"
      ]
     },
     "execution_count": 42,
     "metadata": {},
     "output_type": "execute_result"
    }
   ],
   "source": [
    "a[2]"
   ]
  },
  {
   "cell_type": "code",
   "execution_count": 43,
   "id": "c664ecac",
   "metadata": {},
   "outputs": [
    {
     "data": {
      "text/plain": [
       "'c'"
      ]
     },
     "execution_count": 43,
     "metadata": {},
     "output_type": "execute_result"
    }
   ],
   "source": [
    "a[3][2]"
   ]
  },
  {
   "cell_type": "code",
   "execution_count": 44,
   "id": "b0d562d7",
   "metadata": {},
   "outputs": [
    {
     "data": {
      "text/plain": [
       "[123, 'D&A']"
      ]
     },
     "execution_count": 44,
     "metadata": {},
     "output_type": "execute_result"
    }
   ],
   "source": [
    "a[:2]"
   ]
  },
  {
   "cell_type": "code",
   "execution_count": 45,
   "id": "4fb51778",
   "metadata": {},
   "outputs": [
    {
     "data": {
      "text/plain": [
       "[1432, 'D&A', 'Basic', ['a', 'b', 'c']]"
      ]
     },
     "execution_count": 45,
     "metadata": {},
     "output_type": "execute_result"
    }
   ],
   "source": [
    "#a의 첫번째 원소 수정\n",
    "a[0] = 1432\n",
    "a"
   ]
  },
  {
   "cell_type": "markdown",
   "id": "4891b6f7",
   "metadata": {},
   "source": [
    "### 튜플\n",
    "- 변경 불가능한 리스트\n",
    "- 아이템의 추가, 수정, 삭제 불가"
   ]
  },
  {
   "cell_type": "code",
   "execution_count": 46,
   "id": "19c9d789",
   "metadata": {},
   "outputs": [],
   "source": [
    "a = (13, 'dna','2024/03/12')"
   ]
  },
  {
   "cell_type": "code",
   "execution_count": 47,
   "id": "26405d96",
   "metadata": {},
   "outputs": [
    {
     "ename": "TypeError",
     "evalue": "'tuple' object does not support item assignment",
     "output_type": "error",
     "traceback": [
      "\u001b[1;31m---------------------------------------------------------------------------\u001b[0m",
      "\u001b[1;31mTypeError\u001b[0m                                 Traceback (most recent call last)",
      "Cell \u001b[1;32mIn[47], line 2\u001b[0m\n\u001b[0;32m      1\u001b[0m \u001b[38;5;66;03m# tuple은 수정 불가능\u001b[39;00m\n\u001b[1;32m----> 2\u001b[0m a[\u001b[38;5;241m0\u001b[39m] \u001b[38;5;241m=\u001b[39m \u001b[38;5;241m23\u001b[39m\n",
      "\u001b[1;31mTypeError\u001b[0m: 'tuple' object does not support item assignment"
     ]
    }
   ],
   "source": [
    "# tuple은 수정 불가능\n",
    "a[0] = 23"
   ]
  },
  {
   "cell_type": "code",
   "execution_count": null,
   "id": "7c4ab5fd",
   "metadata": {},
   "outputs": [],
   "source": [
    "# 튜플의 인덱싱과 슬라이싱은 리스트와 같음\n",
    "a[:2]"
   ]
  },
  {
   "cell_type": "markdown",
   "id": "58fe25d0",
   "metadata": {},
   "source": [
    "## 딕셔너리&집합"
   ]
  },
  {
   "cell_type": "markdown",
   "id": "6013f8ec",
   "metadata": {},
   "source": [
    "### 딕셔너리\n",
    "- 키(Key)와 값(value)으로 구성된 집합(비순차 데이터 타입)\n",
    "- 유일한 키로 검색(인덱스로 접근 불가)"
   ]
  },
  {
   "cell_type": "code",
   "execution_count": 48,
   "id": "bbacba74",
   "metadata": {},
   "outputs": [],
   "source": [
    "dic = {\"이름\" : '김서령', \"학교\" : '국민대학교', \n",
    "       \"학과\" : 'AI빅데이터융합경영학과', '나이' : 23}"
   ]
  },
  {
   "cell_type": "code",
   "execution_count": 49,
   "id": "f83623d7",
   "metadata": {},
   "outputs": [
    {
     "data": {
      "text/plain": [
       "dict"
      ]
     },
     "execution_count": 49,
     "metadata": {},
     "output_type": "execute_result"
    }
   ],
   "source": [
    "type(dic)"
   ]
  },
  {
   "cell_type": "code",
   "execution_count": 50,
   "id": "0ea7d91c",
   "metadata": {
    "scrolled": true
   },
   "outputs": [
    {
     "name": "stdout",
     "output_type": "stream",
     "text": [
      "김서령\n"
     ]
    }
   ],
   "source": [
    "print(dic['이름'])"
   ]
  },
  {
   "cell_type": "code",
   "execution_count": 51,
   "id": "be9bb149",
   "metadata": {},
   "outputs": [
    {
     "name": "stdout",
     "output_type": "stream",
     "text": [
      "{'이름': '김서령', '학교': '국민대학교', '학과': 'AI빅데이터융합경영학과', '나이': 23, '학번': 21}\n"
     ]
    }
   ],
   "source": [
    "# 딕셔너리의 값 추가\n",
    "dic['학번'] = 21\n",
    "print(dic)"
   ]
  },
  {
   "cell_type": "code",
   "execution_count": 52,
   "id": "a1b8b21f",
   "metadata": {},
   "outputs": [
    {
     "data": {
      "text/plain": [
       "[1, 2, 3]"
      ]
     },
     "execution_count": 52,
     "metadata": {},
     "output_type": "execute_result"
    }
   ],
   "source": [
    "# 튜플은 리스트와는 달리 값이 변경되지 않기 때문에 딕셔너리의 키로 사용 가능\n",
    "dic = {(1, 2) : [1, 2, 3]}\n",
    "dic[(1, 2)]"
   ]
  },
  {
   "cell_type": "markdown",
   "id": "5dcd0033",
   "metadata": {},
   "source": [
    "### 집합\n",
    "- 유일한 값들로 구성된 비순차적 자료구조\n",
    "- 중복을 허용하지 않음"
   ]
  },
  {
   "cell_type": "code",
   "execution_count": 53,
   "id": "ee0aae95",
   "metadata": {},
   "outputs": [],
   "source": [
    "s = {3,6,1}\n",
    "t = {2,3,4}"
   ]
  },
  {
   "cell_type": "code",
   "execution_count": 54,
   "id": "67412ca8",
   "metadata": {},
   "outputs": [
    {
     "data": {
      "text/plain": [
       "{3}"
      ]
     },
     "execution_count": 54,
     "metadata": {},
     "output_type": "execute_result"
    }
   ],
   "source": [
    "# 교집합\n",
    "s & t"
   ]
  },
  {
   "cell_type": "code",
   "execution_count": 55,
   "id": "7be79b5a",
   "metadata": {},
   "outputs": [
    {
     "data": {
      "text/plain": [
       "{1, 2, 3, 4, 6}"
      ]
     },
     "execution_count": 55,
     "metadata": {},
     "output_type": "execute_result"
    }
   ],
   "source": [
    "# 합집합\n",
    "#중복 허용되지 않기 때문에 3 한번 출력\n",
    "s | t"
   ]
  },
  {
   "cell_type": "code",
   "execution_count": 56,
   "id": "6cedcd90",
   "metadata": {},
   "outputs": [
    {
     "data": {
      "text/plain": [
       "{1, 6}"
      ]
     },
     "execution_count": 56,
     "metadata": {},
     "output_type": "execute_result"
    }
   ],
   "source": [
    "#차집합\n",
    "s - t"
   ]
  },
  {
   "cell_type": "markdown",
   "id": "efad16e1",
   "metadata": {},
   "source": [
    "# 연산자"
   ]
  },
  {
   "cell_type": "markdown",
   "id": "6d33dd35",
   "metadata": {},
   "source": [
    "### 산술연산자"
   ]
  },
  {
   "cell_type": "code",
   "execution_count": 57,
   "id": "eb37d3d4",
   "metadata": {},
   "outputs": [],
   "source": [
    "a, b = 7, 3"
   ]
  },
  {
   "cell_type": "code",
   "execution_count": 58,
   "id": "d00e360b",
   "metadata": {},
   "outputs": [
    {
     "name": "stdout",
     "output_type": "stream",
     "text": [
      "1: 10\n",
      "2: 4\n",
      "3: 21\n",
      "4: 2.3333333333333335\n",
      "5: 2\n",
      "6: 1\n",
      "7: 343\n"
     ]
    }
   ],
   "source": [
    "print('1:', a + b)\n",
    "print('2:', a - b)\n",
    "print('3:', a * b)\n",
    "print('4:', a / b)\n",
    "print('5:', a // b)\n",
    "print('6:', a % b)\n",
    "print('7:', a ** b)"
   ]
  },
  {
   "cell_type": "markdown",
   "id": "9a16af88",
   "metadata": {},
   "source": [
    "### 대입연산자"
   ]
  },
  {
   "cell_type": "code",
   "execution_count": 59,
   "id": "50fa2c15",
   "metadata": {},
   "outputs": [
    {
     "name": "stdout",
     "output_type": "stream",
     "text": [
      "10\n"
     ]
    }
   ],
   "source": [
    "# a = 7, b = 3\n",
    "a += b\n",
    "print(a)"
   ]
  },
  {
   "cell_type": "code",
   "execution_count": 60,
   "id": "24f46588",
   "metadata": {},
   "outputs": [
    {
     "name": "stdout",
     "output_type": "stream",
     "text": [
      "3\n"
     ]
    }
   ],
   "source": [
    "# a = 10, b = 3\n",
    "a //= b\n",
    "print(a)"
   ]
  },
  {
   "cell_type": "markdown",
   "id": "acf9dd8b",
   "metadata": {},
   "source": [
    "### 비교연산자"
   ]
  },
  {
   "cell_type": "code",
   "execution_count": 61,
   "id": "abbbaca3",
   "metadata": {},
   "outputs": [
    {
     "data": {
      "text/plain": [
       "True"
      ]
     },
     "execution_count": 61,
     "metadata": {},
     "output_type": "execute_result"
    }
   ],
   "source": [
    "\"파이썬\" == \"파이썬\""
   ]
  },
  {
   "cell_type": "code",
   "execution_count": 62,
   "id": "89e54ac0",
   "metadata": {},
   "outputs": [
    {
     "data": {
      "text/plain": [
       "True"
      ]
     },
     "execution_count": 62,
     "metadata": {},
     "output_type": "execute_result"
    }
   ],
   "source": [
    "a = 1234\n",
    "b = 1234\n",
    "\n",
    "a == b"
   ]
  },
  {
   "cell_type": "code",
   "execution_count": 63,
   "id": "baa9d170",
   "metadata": {},
   "outputs": [
    {
     "data": {
      "text/plain": [
       "False"
      ]
     },
     "execution_count": 63,
     "metadata": {},
     "output_type": "execute_result"
    }
   ],
   "source": [
    "a != b"
   ]
  },
  {
   "cell_type": "markdown",
   "id": "31ecb790",
   "metadata": {},
   "source": [
    "### 멤버&논리연산자"
   ]
  },
  {
   "cell_type": "markdown",
   "id": "a41b0d68",
   "metadata": {},
   "source": [
    "#### 멤버 연산자"
   ]
  },
  {
   "cell_type": "code",
   "execution_count": 64,
   "id": "cd34e0ec",
   "metadata": {},
   "outputs": [],
   "source": [
    "a = 1\n",
    "b = [1, 2, 3, 4]"
   ]
  },
  {
   "cell_type": "code",
   "execution_count": 65,
   "id": "c646a0b9",
   "metadata": {},
   "outputs": [
    {
     "data": {
      "text/plain": [
       "True"
      ]
     },
     "execution_count": 65,
     "metadata": {},
     "output_type": "execute_result"
    }
   ],
   "source": [
    "a in b"
   ]
  },
  {
   "cell_type": "code",
   "execution_count": 66,
   "id": "7d542fa5",
   "metadata": {},
   "outputs": [
    {
     "data": {
      "text/plain": [
       "False"
      ]
     },
     "execution_count": 66,
     "metadata": {},
     "output_type": "execute_result"
    }
   ],
   "source": [
    "a not in b"
   ]
  },
  {
   "cell_type": "markdown",
   "id": "b97dae57",
   "metadata": {},
   "source": [
    "#### 논리 연산자"
   ]
  },
  {
   "cell_type": "code",
   "execution_count": 67,
   "id": "4d2b4d14",
   "metadata": {},
   "outputs": [
    {
     "data": {
      "text/plain": [
       "True"
      ]
     },
     "execution_count": 67,
     "metadata": {},
     "output_type": "execute_result"
    }
   ],
   "source": [
    "3<6 and 2<3"
   ]
  },
  {
   "cell_type": "code",
   "execution_count": 68,
   "id": "0781ea34",
   "metadata": {},
   "outputs": [
    {
     "data": {
      "text/plain": [
       "False"
      ]
     },
     "execution_count": 68,
     "metadata": {},
     "output_type": "execute_result"
    }
   ],
   "source": [
    "3<4 and 1>7"
   ]
  },
  {
   "cell_type": "code",
   "execution_count": 69,
   "id": "a306cfaf",
   "metadata": {},
   "outputs": [
    {
     "data": {
      "text/plain": [
       "True"
      ]
     },
     "execution_count": 69,
     "metadata": {},
     "output_type": "execute_result"
    }
   ],
   "source": [
    "3<10 or 4<9"
   ]
  },
  {
   "cell_type": "code",
   "execution_count": 70,
   "id": "274f5576",
   "metadata": {},
   "outputs": [
    {
     "data": {
      "text/plain": [
       "True"
      ]
     },
     "execution_count": 70,
     "metadata": {},
     "output_type": "execute_result"
    }
   ],
   "source": [
    "0>1 or 9>7"
   ]
  },
  {
   "cell_type": "code",
   "execution_count": 71,
   "id": "f34f6d13",
   "metadata": {
    "scrolled": true
   },
   "outputs": [
    {
     "data": {
      "text/plain": [
       "True"
      ]
     },
     "execution_count": 71,
     "metadata": {},
     "output_type": "execute_result"
    }
   ],
   "source": [
    "# False 나 True는 첫번째 문자가 대문자 주의\n",
    "not False"
   ]
  },
  {
   "cell_type": "markdown",
   "id": "7cb470d8",
   "metadata": {},
   "source": [
    "# 문자열포맷팅"
   ]
  },
  {
   "cell_type": "markdown",
   "id": "d09727a2",
   "metadata": {},
   "source": [
    "### 포맷코드"
   ]
  },
  {
   "cell_type": "code",
   "execution_count": 72,
   "id": "a6a89213",
   "metadata": {},
   "outputs": [
    {
     "name": "stdout",
     "output_type": "stream",
     "text": [
      "저는 3학년이고 이름은 김서령입니다\n"
     ]
    }
   ],
   "source": [
    "grade = 3\n",
    "name = \"김서령\"\n",
    "\n",
    "intro = \"저는 %d학년이고 이름은 %s입니다\"%(grade, name)\n",
    "print(intro)"
   ]
  },
  {
   "cell_type": "code",
   "execution_count": 73,
   "id": "b5a3ec38",
   "metadata": {},
   "outputs": [
    {
     "name": "stdout",
     "output_type": "stream",
     "text": [
      "파이는 3.14\n"
     ]
    }
   ],
   "source": [
    "pie = 3.14159\n",
    "\n",
    "print(\"파이는 %0.2f\"%pie)  # 포맷코드의 %와 f사이에 소수점 아래 자리 지정"
   ]
  },
  {
   "cell_type": "code",
   "execution_count": 74,
   "id": "7ff78c8f",
   "metadata": {},
   "outputs": [
    {
     "name": "stdout",
     "output_type": "stream",
     "text": [
      "김씨는 대한민국 인구의 20%가 넘는다\n"
     ]
    }
   ],
   "source": [
    "# %기호를 포맷코드와 같이 넣으려면 %%로\n",
    "print(\"김씨는 대한민국 인구의 %s%%가 넘는다\"%20) "
   ]
  },
  {
   "cell_type": "markdown",
   "id": "1609de88",
   "metadata": {},
   "source": [
    "### format함수"
   ]
  },
  {
   "cell_type": "code",
   "execution_count": 75,
   "id": "e53b8927",
   "metadata": {},
   "outputs": [
    {
     "name": "stdout",
     "output_type": "stream",
     "text": [
      "저는 김서령이고 2002년생입니다.\n"
     ]
    }
   ],
   "source": [
    "name = \"김서령\"\n",
    "birth = 2002\n",
    "\n",
    "print(\"저는 {0}이고 {1}년생입니다.\".format(name, birth))   # 인덱스에 해당하는 변수 삽입"
   ]
  },
  {
   "cell_type": "code",
   "execution_count": 76,
   "id": "53c256d7",
   "metadata": {},
   "outputs": [
    {
     "name": "stdout",
     "output_type": "stream",
     "text": [
      "저는 신지후이고 2003년생입니다.\n"
     ]
    }
   ],
   "source": [
    "print(\"저는 {0}이고 {1}년생입니다.\".format(\"신지후\", 2003))"
   ]
  },
  {
   "cell_type": "code",
   "execution_count": 77,
   "id": "928c6456",
   "metadata": {},
   "outputs": [
    {
     "name": "stdout",
     "output_type": "stream",
     "text": [
      "저는 이준혁이고 2001년생입니다.\n"
     ]
    }
   ],
   "source": [
    "print(\"저는 {name}이고 {birth}년생입니다.\".format(name = \"이준혁\", birth = 2001))"
   ]
  },
  {
   "cell_type": "code",
   "execution_count": 78,
   "id": "b392e7a4",
   "metadata": {},
   "outputs": [
    {
     "name": "stdout",
     "output_type": "stream",
     "text": [
      "파이는 3.14\n"
     ]
    }
   ],
   "source": [
    "name = \"파이\"\n",
    "pie = 3.14159\n",
    "\n",
    "print(\"{0}는 {1:.2f}\".format(name, pie))  # format함수로 소수점 아래 자리 지정"
   ]
  },
  {
   "cell_type": "markdown",
   "id": "25eebd84",
   "metadata": {},
   "source": [
    "### f-string"
   ]
  },
  {
   "cell_type": "code",
   "execution_count": 79,
   "id": "02c2dafe",
   "metadata": {},
   "outputs": [
    {
     "name": "stdout",
     "output_type": "stream",
     "text": [
      "저는 김서령이고 2002년생입니다.\n"
     ]
    }
   ],
   "source": [
    "name = \"김서령\"\n",
    "birth = 2002\n",
    "\n",
    "print(f\"저는 {name}이고 {birth}년생입니다.\")"
   ]
  },
  {
   "cell_type": "code",
   "execution_count": 80,
   "id": "207ee3e5",
   "metadata": {},
   "outputs": [
    {
     "name": "stdout",
     "output_type": "stream",
     "text": [
      "제 이름은 김서령이고 나이는 23, 직업은 대학생입니다.\n"
     ]
    }
   ],
   "source": [
    "user = {\"이름\" : \"김서령\", \"나이\" : 23, \"직업\" : \"대학생\"}\n",
    "\n",
    "print(f\"제 이름은 {user['이름']}이고 나이는 {user['나이']}, 직업은 {user['직업']}입니다.\")"
   ]
  },
  {
   "cell_type": "code",
   "execution_count": 81,
   "id": "9c817563",
   "metadata": {},
   "outputs": [
    {
     "name": "stdout",
     "output_type": "stream",
     "text": [
      "파이는 3.14\n"
     ]
    }
   ],
   "source": [
    "name = \"파이\"\n",
    "pie = 3.14159\n",
    "\n",
    "print(f\"{name}는 {pie:.2f}\")  # f-string 기법으로 소수점 아래 자리 지정"
   ]
  },
  {
   "cell_type": "markdown",
   "id": "a41790a7",
   "metadata": {},
   "source": [
    "# 메소드\n",
    "\n",
    "#### 메소드\n",
    "- 객체(특정 자료형을 갖는 값 또는 그 변수)와 연관되어 사용하는 변수\n",
    "\n",
    "#### 함수\n",
    "- 함수에 정의된 기능을 구현\n",
    "- 함수의 결과를 변수에 대입 가능\n",
    "- 함수명으로 독립적으로 호출 가능"
   ]
  },
  {
   "cell_type": "markdown",
   "id": "1645de84",
   "metadata": {},
   "source": [
    "### 문자열메소드\n",
    "메소드 종류|      메소드 설명\n",
    "---|---\n",
    "a.count()| 문자열 내 input(x)의 개수 세기\n",
    "a.find(x)|  문자열 내 input(x)과 동일한 첫번째 요소의 인덱스 값\n",
    "a.replace('x', 'y')| 문자열 내 첫 번째 input값(x)을 두 번째 input값(y)으로 대체 \n",
    "a.split()| 문자열을 input 기준으로 나누어 리스트에 저장\n",
    "'x'.join(a) | input으로 들어간 문자열(a)의 각 요소 사이에 ''(x) 삽입\n",
    "a.lower()  | 문자열의 대문자를 소문자로 바꿈\n",
    "a.upper() | 문자열의 소문자를 대문자로 바꿈\n",
    "a.swapcase() | 대문자는 소문자로, 소문자는 대문자로 바꿈\n",
    "a.capitalize()|  문자열의 첫 글자를 대문자로, 나머지는 소문자로 바꿈\n",
    "a.lstrip()|  문자열의 왼쪽 공백을 없앰\n",
    "a.rstrip()|  문자열의 오른쪽 공백을 없앰\n",
    "a.strip()|  문자열의 양쪽 공백을 없앰\n",
    "a.startwith(x)|  문자열이 input값(x)로 시작하는지 여부를 bool형태로 반환\n",
    "a.endwith(x)|  문자열이 input값(x)로 끝나는지 여부를 bool형태로 반환\n",
    "a.isalnum()|  문자열이 숫자와 알파벳으로 이루어져있으면 True, 아니면 False\n",
    "a.isalpha()|  문자열이 문자(영어, 한글)만 포함하고 있으면 True, 아니면 False\n",
    "a.isdigit()|  문자열이 숫자로만 이루어져있으면 True, 아니면 False"
   ]
  },
  {
   "cell_type": "code",
   "execution_count": 82,
   "id": "1b6a586a",
   "metadata": {},
   "outputs": [],
   "source": [
    "a = 'I ate chicken'"
   ]
  },
  {
   "cell_type": "code",
   "execution_count": 83,
   "id": "cf334cea",
   "metadata": {},
   "outputs": [
    {
     "data": {
      "text/plain": [
       "2"
      ]
     },
     "execution_count": 83,
     "metadata": {},
     "output_type": "execute_result"
    }
   ],
   "source": [
    "# 요소 개수 세기\n",
    "a.count('c') "
   ]
  },
  {
   "cell_type": "code",
   "execution_count": 84,
   "id": "80e9dc7f",
   "metadata": {},
   "outputs": [
    {
     "data": {
      "text/plain": [
       "8"
      ]
     },
     "execution_count": 84,
     "metadata": {},
     "output_type": "execute_result"
    }
   ],
   "source": [
    "# 문자열 중 input과 같은 첫번째 요소의 인덱스값 출력\n",
    "a.find('i') "
   ]
  },
  {
   "cell_type": "code",
   "execution_count": 85,
   "id": "87c2e5a5",
   "metadata": {},
   "outputs": [
    {
     "data": {
      "text/plain": [
       "'I buy chicken'"
      ]
     },
     "execution_count": 85,
     "metadata": {},
     "output_type": "execute_result"
    }
   ],
   "source": [
    "# 문자열 내 첫 번째 input을 두 번째 input으로 대체\n",
    "a.replace('ate','buy')"
   ]
  },
  {
   "cell_type": "code",
   "execution_count": 86,
   "id": "c04b5509",
   "metadata": {},
   "outputs": [
    {
     "data": {
      "text/plain": [
       "['I', 'ate', 'chicken']"
      ]
     },
     "execution_count": 86,
     "metadata": {},
     "output_type": "execute_result"
    }
   ],
   "source": [
    "# input 기준으로 문자열을 나누어 리스트에 저장\n",
    "a.split(\" \")"
   ]
  },
  {
   "cell_type": "code",
   "execution_count": 87,
   "id": "4eb22fad",
   "metadata": {},
   "outputs": [
    {
     "data": {
      "text/plain": [
       "'I1 1a1t1e1 1c1h1i1c1k1e1n'"
      ]
     },
     "execution_count": 87,
     "metadata": {},
     "output_type": "execute_result"
    }
   ],
   "source": [
    "# 문자열 내 요소 사이에 input 삽입\n",
    "'1'.join(a) "
   ]
  },
  {
   "cell_type": "code",
   "execution_count": 88,
   "id": "e25459ac",
   "metadata": {},
   "outputs": [
    {
     "data": {
      "text/plain": [
       "'i ate chicken'"
      ]
     },
     "execution_count": 88,
     "metadata": {},
     "output_type": "execute_result"
    }
   ],
   "source": [
    "# 문자열의 대문자를 소문자로 바꿈\n",
    "a.lower()  "
   ]
  },
  {
   "cell_type": "code",
   "execution_count": 89,
   "id": "a015a8b5",
   "metadata": {},
   "outputs": [
    {
     "data": {
      "text/plain": [
       "'I ATE CHICKEN'"
      ]
     },
     "execution_count": 89,
     "metadata": {},
     "output_type": "execute_result"
    }
   ],
   "source": [
    "# 문자열의 소문자를 대문자로 바꿈\n",
    "a.upper() "
   ]
  },
  {
   "cell_type": "code",
   "execution_count": 90,
   "id": "95e2f418",
   "metadata": {},
   "outputs": [
    {
     "data": {
      "text/plain": [
       "' i AM HUNGRY '"
      ]
     },
     "execution_count": 90,
     "metadata": {},
     "output_type": "execute_result"
    }
   ],
   "source": [
    "b = ' I am hungry '\n",
    "\n",
    "# 대문자는 소문자로, 소문자는 대문자로\n",
    "b.swapcase() "
   ]
  },
  {
   "cell_type": "code",
   "execution_count": 91,
   "id": "ea8c7386",
   "metadata": {},
   "outputs": [
    {
     "data": {
      "text/plain": [
       "' i am hungry '"
      ]
     },
     "execution_count": 91,
     "metadata": {},
     "output_type": "execute_result"
    }
   ],
   "source": [
    "# 문자열의 첫번째 글자는 대문자로, 나머지는 소문자로\n",
    "b.capitalize() "
   ]
  },
  {
   "cell_type": "code",
   "execution_count": 92,
   "id": "7b474044",
   "metadata": {},
   "outputs": [
    {
     "data": {
      "text/plain": [
       "' I am hungry'"
      ]
     },
     "execution_count": 92,
     "metadata": {},
     "output_type": "execute_result"
    }
   ],
   "source": [
    "# 오른쪽 공백 지우기\n",
    "b.rstrip()"
   ]
  },
  {
   "cell_type": "code",
   "execution_count": 93,
   "id": "d6d54e83",
   "metadata": {},
   "outputs": [
    {
     "data": {
      "text/plain": [
       "'I am hungry '"
      ]
     },
     "execution_count": 93,
     "metadata": {},
     "output_type": "execute_result"
    }
   ],
   "source": [
    "# 왼쪽 공백 지우기\n",
    "b.lstrip()"
   ]
  },
  {
   "cell_type": "code",
   "execution_count": 94,
   "id": "b5a8ed48",
   "metadata": {},
   "outputs": [
    {
     "data": {
      "text/plain": [
       "'I am hungry'"
      ]
     },
     "execution_count": 94,
     "metadata": {},
     "output_type": "execute_result"
    }
   ],
   "source": [
    "b = '       I am hungry         '\n",
    "\n",
    "# 양쪽 공백 지우기\n",
    "b.strip()    "
   ]
  },
  {
   "cell_type": "code",
   "execution_count": 95,
   "id": "7e55da22",
   "metadata": {},
   "outputs": [
    {
     "data": {
      "text/plain": [
       "True"
      ]
     },
     "execution_count": 95,
     "metadata": {},
     "output_type": "execute_result"
    }
   ],
   "source": [
    "c = \"pythonispython\"\n",
    "\n",
    "# 문자열이 input값으로 시작하는지 여부를 bool자료형으로 반환\n",
    "c.startswith(\"p\")  "
   ]
  },
  {
   "cell_type": "code",
   "execution_count": 96,
   "id": "ade6da1e",
   "metadata": {},
   "outputs": [
    {
     "data": {
      "text/plain": [
       "True"
      ]
     },
     "execution_count": 96,
     "metadata": {},
     "output_type": "execute_result"
    }
   ],
   "source": [
    "# 문자열이 input값으로 시작하는지 여부를 bool자료형으로 반환\n",
    "c.endswith(\"n\")"
   ]
  },
  {
   "cell_type": "code",
   "execution_count": 97,
   "id": "a1fe001d",
   "metadata": {},
   "outputs": [
    {
     "data": {
      "text/plain": [
       "True"
      ]
     },
     "execution_count": 97,
     "metadata": {},
     "output_type": "execute_result"
    }
   ],
   "source": [
    "c = \"1004ANGEL\"\n",
    "\n",
    "# 문자열이 숫자와 알파벳으로 이루어져있으면 True, 아니면 False\n",
    "c.isalnum() "
   ]
  },
  {
   "cell_type": "code",
   "execution_count": 98,
   "id": "e7fd99aa",
   "metadata": {},
   "outputs": [
    {
     "data": {
      "text/plain": [
       "False"
      ]
     },
     "execution_count": 98,
     "metadata": {},
     "output_type": "execute_result"
    }
   ],
   "source": [
    "# 문자열이 문자(영어, 한글)만 포함하고 있으면 True, 아니면 False\n",
    "c.isalpha()"
   ]
  },
  {
   "cell_type": "code",
   "execution_count": 99,
   "id": "20c9c713",
   "metadata": {},
   "outputs": [
    {
     "data": {
      "text/plain": [
       "False"
      ]
     },
     "execution_count": 99,
     "metadata": {},
     "output_type": "execute_result"
    }
   ],
   "source": [
    "# 문자열이 숫자로만 이루어져있으면 True, 아니면 False\n",
    "c.isdigit()"
   ]
  },
  {
   "cell_type": "markdown",
   "id": "956a81ee",
   "metadata": {},
   "source": [
    "### 리스트메소드\n",
    "메소드 종류|      메소드 설명\n",
    "---|---\n",
    "a.append()| 리스트에 input값(x) 추가\n",
    "a.reverse()|  리스트를 현재 순서에서 뒤집기\n",
    "a.sort()| 리스트 요소 값 기준으로 정렬\n",
    "a.index(x)| input값(x)의 인덱스 값 반환\n",
    "a.insert(x, y) | x에 해당하는 인덱스 값 자리에 y 삽입\n",
    "a.remove(x)  | input값(x)에 해당하는 리스트 내 요소 삭제\n",
    "a.count(x) | input값(x)에 해당하는 요소 개수 세기\n",
    "a.extend(x) | 리스트에 input(x)으로 들어온 리스트 확장\n",
    "a.pop()|  리스트의 마지막 값 출력 후 반환(출력된 값은 리스트에서 삭제)"
   ]
  },
  {
   "cell_type": "code",
   "execution_count": 100,
   "id": "25c711e5",
   "metadata": {},
   "outputs": [],
   "source": [
    "a = [4,3,2,1]"
   ]
  },
  {
   "cell_type": "code",
   "execution_count": 101,
   "id": "ea974505",
   "metadata": {},
   "outputs": [
    {
     "data": {
      "text/plain": [
       "[4, 3, 2, 1, 5]"
      ]
     },
     "execution_count": 101,
     "metadata": {},
     "output_type": "execute_result"
    }
   ],
   "source": [
    "# 리스트에 input값 추가\n",
    "a.append(5)  \n",
    "a            "
   ]
  },
  {
   "cell_type": "code",
   "execution_count": 102,
   "id": "2f457e00",
   "metadata": {},
   "outputs": [
    {
     "data": {
      "text/plain": [
       "[5, 1, 2, 3, 4]"
      ]
     },
     "execution_count": 102,
     "metadata": {},
     "output_type": "execute_result"
    }
   ],
   "source": [
    "# 리스트를 현재 순서에서 뒤집기\n",
    "a.reverse() \n",
    "a"
   ]
  },
  {
   "cell_type": "code",
   "execution_count": 103,
   "id": "6ee9df9f",
   "metadata": {},
   "outputs": [
    {
     "data": {
      "text/plain": [
       "[1, 2, 3, 4, 5]"
      ]
     },
     "execution_count": 103,
     "metadata": {},
     "output_type": "execute_result"
    }
   ],
   "source": [
    "# 리스트 요소를 요소값 기준으로 정렬\n",
    "a.sort()  \n",
    "a"
   ]
  },
  {
   "cell_type": "code",
   "execution_count": 104,
   "id": "ccd3e838",
   "metadata": {},
   "outputs": [
    {
     "data": {
      "text/plain": [
       "[1, 3, 4, 5]"
      ]
     },
     "execution_count": 104,
     "metadata": {},
     "output_type": "execute_result"
    }
   ],
   "source": [
    "# 리스트 내 input 값 삭제\n",
    "a.remove(2)  \n",
    "a"
   ]
  },
  {
   "cell_type": "code",
   "execution_count": 105,
   "id": "b392b427",
   "metadata": {},
   "outputs": [
    {
     "data": {
      "text/plain": [
       "5"
      ]
     },
     "execution_count": 105,
     "metadata": {},
     "output_type": "execute_result"
    }
   ],
   "source": [
    "# 리스트 마지막 요소 반환 후 삭제\n",
    "a.pop() "
   ]
  },
  {
   "cell_type": "code",
   "execution_count": 106,
   "id": "44b87ca5",
   "metadata": {},
   "outputs": [
    {
     "data": {
      "text/plain": [
       "[1, 3, 4]"
      ]
     },
     "execution_count": 106,
     "metadata": {},
     "output_type": "execute_result"
    }
   ],
   "source": [
    "a"
   ]
  },
  {
   "cell_type": "code",
   "execution_count": 107,
   "id": "1ffd23e1",
   "metadata": {},
   "outputs": [
    {
     "data": {
      "text/plain": [
       "1"
      ]
     },
     "execution_count": 107,
     "metadata": {},
     "output_type": "execute_result"
    }
   ],
   "source": [
    "# 리스트 내 input값 요소 개수 세기\n",
    "a.count(1) "
   ]
  },
  {
   "cell_type": "code",
   "execution_count": 108,
   "id": "7998d9cd",
   "metadata": {},
   "outputs": [
    {
     "data": {
      "text/plain": [
       "[1, 3, 4, 5, 6, 7, 8, 9]"
      ]
     },
     "execution_count": 108,
     "metadata": {},
     "output_type": "execute_result"
    }
   ],
   "source": [
    "# 리스트를 input으로 받아 리스트 확장\n",
    "a.extend([5, 6, 7, 8, 9]) \n",
    "a"
   ]
  },
  {
   "cell_type": "code",
   "execution_count": 109,
   "id": "801c6a2d",
   "metadata": {},
   "outputs": [
    {
     "data": {
      "text/plain": [
       "[]"
      ]
     },
     "execution_count": 109,
     "metadata": {},
     "output_type": "execute_result"
    }
   ],
   "source": [
    "# 리스트 내의 원소를 모두 삭제\n",
    "a.clear()\n",
    "a"
   ]
  },
  {
   "cell_type": "markdown",
   "id": "6b564144",
   "metadata": {},
   "source": [
    "### 딕셔너리메소드\n",
    "메소드 종류|      메소드 설명\n",
    "---|---\n",
    "a.keys()| 딕셔너리의 모든 key 출력\n",
    "a.values()|  딕셔너리의 모든 value 출력\n",
    "a.items()| 딕셔너리의 모든 key:value 조합을 튜플 형태로 반환\n",
    "a.get(x) | input값(x)에 해당하는 value 출력"
   ]
  },
  {
   "cell_type": "code",
   "execution_count": 110,
   "id": "2d03baf9",
   "metadata": {},
   "outputs": [],
   "source": [
    "name = {\"김서령\" : 21, \"이준혁\" : 20, \"김차미\" : 22, \"이지민\" : 22}"
   ]
  },
  {
   "cell_type": "code",
   "execution_count": 111,
   "id": "0fccb0d0",
   "metadata": {},
   "outputs": [
    {
     "data": {
      "text/plain": [
       "dict_keys(['김서령', '이준혁', '김차미', '이지민'])"
      ]
     },
     "execution_count": 111,
     "metadata": {},
     "output_type": "execute_result"
    }
   ],
   "source": [
    "name.keys()"
   ]
  },
  {
   "cell_type": "code",
   "execution_count": 112,
   "id": "c94978cb",
   "metadata": {},
   "outputs": [
    {
     "data": {
      "text/plain": [
       "dict_values([21, 20, 22, 22])"
      ]
     },
     "execution_count": 112,
     "metadata": {},
     "output_type": "execute_result"
    }
   ],
   "source": [
    "name.values()"
   ]
  },
  {
   "cell_type": "code",
   "execution_count": 113,
   "id": "6ca730ae",
   "metadata": {},
   "outputs": [
    {
     "data": {
      "text/plain": [
       "dict_items([('김서령', 21), ('이준혁', 20), ('김차미', 22), ('이지민', 22)])"
      ]
     },
     "execution_count": 113,
     "metadata": {},
     "output_type": "execute_result"
    }
   ],
   "source": [
    "name.items()"
   ]
  },
  {
   "cell_type": "code",
   "execution_count": 114,
   "id": "d41f9334",
   "metadata": {},
   "outputs": [
    {
     "data": {
      "text/plain": [
       "4"
      ]
     },
     "execution_count": 114,
     "metadata": {},
     "output_type": "execute_result"
    }
   ],
   "source": [
    "len(name)"
   ]
  },
  {
   "cell_type": "code",
   "execution_count": 115,
   "id": "732e981d",
   "metadata": {},
   "outputs": [
    {
     "data": {
      "text/plain": [
       "{'김서령': 22, '이준혁': 20, '김차미': 22, '이지민': 22}"
      ]
     },
     "execution_count": 115,
     "metadata": {},
     "output_type": "execute_result"
    }
   ],
   "source": [
    "name['김서령'] = 22\n",
    "name"
   ]
  },
  {
   "cell_type": "code",
   "execution_count": 116,
   "id": "86636135",
   "metadata": {},
   "outputs": [
    {
     "data": {
      "text/plain": [
       "{'김서령': 22, '이준혁': 20, '김차미': 22, '이지민': 22, '김예향': 21}"
      ]
     },
     "execution_count": 116,
     "metadata": {},
     "output_type": "execute_result"
    }
   ],
   "source": [
    "name['김예향'] = 21\n",
    "name"
   ]
  },
  {
   "cell_type": "code",
   "execution_count": 117,
   "id": "bc6fc00d",
   "metadata": {},
   "outputs": [
    {
     "data": {
      "text/plain": [
       "22"
      ]
     },
     "execution_count": 117,
     "metadata": {},
     "output_type": "execute_result"
    }
   ],
   "source": [
    "name.get(\"김서령\")"
   ]
  },
  {
   "cell_type": "code",
   "execution_count": 118,
   "id": "d8d0b941",
   "metadata": {},
   "outputs": [
    {
     "data": {
      "text/plain": [
       "22"
      ]
     },
     "execution_count": 118,
     "metadata": {},
     "output_type": "execute_result"
    }
   ],
   "source": [
    "name[\"김서령\"]"
   ]
  },
  {
   "cell_type": "code",
   "execution_count": 119,
   "id": "af102722",
   "metadata": {},
   "outputs": [],
   "source": [
    "name.clear()"
   ]
  },
  {
   "cell_type": "code",
   "execution_count": 120,
   "id": "8b2d560f",
   "metadata": {},
   "outputs": [
    {
     "data": {
      "text/plain": [
       "{}"
      ]
     },
     "execution_count": 120,
     "metadata": {},
     "output_type": "execute_result"
    }
   ],
   "source": [
    "name"
   ]
  }
 ],
 "metadata": {
  "kernelspec": {
   "display_name": "Python 3 (ipykernel)",
   "language": "python",
   "name": "python3"
  },
  "language_info": {
   "codemirror_mode": {
    "name": "ipython",
    "version": 3
   },
   "file_extension": ".py",
   "mimetype": "text/x-python",
   "name": "python",
   "nbconvert_exporter": "python",
   "pygments_lexer": "ipython3",
   "version": "3.11.5"
  }
 },
 "nbformat": 4,
 "nbformat_minor": 5
}
